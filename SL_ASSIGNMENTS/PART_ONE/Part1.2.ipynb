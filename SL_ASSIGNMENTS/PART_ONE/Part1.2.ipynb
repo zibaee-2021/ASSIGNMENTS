{
 "cells": [
  {
   "cell_type": "markdown",
   "id": "0ff4220e",
   "metadata": {},
   "source": [
    "### 1.2 Filtered Boston housing and kernels\n",
    "\n",
    "Downloaded csv in command line using:\n",
    "`curl -o boston-filter.csv http://www0.cs.ucl.ac.uk/staff/M.Herbster/boston-filter/Boston-filtered.csv`\n"
   ]
  },
  {
   "cell_type": "code",
   "execution_count": 2,
   "id": "60212353",
   "metadata": {},
   "outputs": [],
   "source": [
    "import numpy as np\n",
    "import python_functions as py_func\n",
    "\n",
    "# dataset_np_headers_dropped\n",
    "ds = np.genfromtxt('boston-filter.csv', delimiter=',', skip_header=1)"
   ]
  },
  {
   "cell_type": "markdown",
   "source": [
    "#### Naive Regression\n",
    "a. Using polynomial basis for k=1 only i.e. $y = b$.\n",
    "\n",
    "b. The constant function effectively determines the bias ($y$-intercept) of the linear regression.\n",
    "It is the lowest predicted value of the dependent variable, the median house price."
   ],
   "metadata": {
    "collapsed": false
   }
  },
  {
   "cell_type": "code",
   "execution_count": 3,
   "outputs": [],
   "source": [
    "MSEs_train_part_a, MSEs_test_part_a = py_func.split_dataset_and_compute_20_MSEs_with_ones(ds)"
   ],
   "metadata": {
    "collapsed": false
   }
  },
  {
   "cell_type": "markdown",
   "source": [
    "c. For each of the 12 attributes, perform a linear regression using only the single attribute but incorporating a bias term so that the inputs are augmented with an additional 1 entry, (xi , 1), so that we learn a weight vector w\n",
    " ∈ R2."
   ],
   "metadata": {
    "collapsed": false
   }
  },
  {
   "cell_type": "markdown",
   "source": [
    "(Does this mean they want all 12 weights or the average of the 12 weights or MSEs .. ?)"
   ],
   "metadata": {
    "collapsed": false
   }
  },
  {
   "cell_type": "code",
   "execution_count": 14,
   "outputs": [
    {
     "name": "stdout",
     "output_type": "stream",
     "text": [
      "Means for each of the 12 attributes in train ds= \n",
      "[70.7041647837489, 72.03692002816041, 64.05057020382704, 80.34603836491502, 68.1197348390914, 43.675830130679536, 71.36935623649204, 78.04456954554622, 71.55957656203262, 65.32423821973977, 62.090915760503876, 37.47723015145918]\n",
      "\n",
      "Means for each of the 12 attributes in test ds= \n",
      "[74.4874685503509, 76.79322964603105, 66.16293396472426, 85.56934661294534, 71.1069732261131, 43.808498207167375, 74.93678917645552, 81.79524781858404, 73.52533896219495, 67.23687830792827, 64.18149020991304, 40.87963802805747]\n"
     ]
    }
   ],
   "source": [
    "MSEs_train_part_c, MSEs_test_part_c = py_func.split_dataset_and_compute_20_MSEs_with_single_attr(ds)\n",
    "\n",
    "means_train, means_test = [], []\n",
    "for MSEs_train_part_c_per_attr, MSEs_test_part_c_per_attr in zip(MSEs_train_part_c, MSEs_test_part_c):\n",
    "    means_train.append(np.mean(MSEs_train_part_c_per_attr))\n",
    "    means_test.append(np.mean(MSEs_test_part_c_per_attr))\n",
    "\n",
    "print(f'Means for each of the 12 attributes in train ds = \\n{means_train}\\n')\n",
    "print(f'Means for each of the 12 attributes in test ds = \\n{means_test}')"
   ],
   "metadata": {
    "collapsed": false
   }
  },
  {
   "cell_type": "markdown",
   "source": [
    "d. Perform linear regression using all of the data attributes at once.\n",
    "Perform linear regression on the training set using this regressor, and incorporate a bias term as above.\n",
    "\n",
    "Calculate the MSE on the training and test sets and note down the results.\n",
    "You should find that this method outperforms any of the individual regressors."
   ],
   "metadata": {
    "collapsed": false
   }
  },
  {
   "cell_type": "code",
   "execution_count": 5,
   "outputs": [],
   "source": [
    "MSEs_train_part_d, MSEs_test_part_d = py_func.split_dataset_and_compute_20_MSEs_with_all_12_attr(ds)"
   ],
   "metadata": {
    "collapsed": false
   }
  },
  {
   "cell_type": "code",
   "execution_count": 15,
   "outputs": [
    {
     "name": "stdout",
     "output_type": "stream",
     "text": [
      "Mean MSE for train dataset, using all 12 attributes = 21.70373755394515\n",
      "Mean MSE for test dataset, using all 12 attributes = 25.273765249937956\n"
     ]
    }
   ],
   "source": [
    "print(f'Mean MSE for train dataset, using all 12 attributes = {np.mean(MSEs_train_part_d)}')  # gives 65.39992873551633\n",
    "print(f'Mean MSE for test dataset, using all 12 attributes = {np.mean(MSEs_test_part_d)}')  # gives 68.3736527258721"
   ],
   "metadata": {
    "collapsed": false
   }
  },
  {
   "cell_type": "code",
   "execution_count": null,
   "outputs": [],
   "source": [],
   "metadata": {
    "collapsed": false
   }
  }
 ],
 "metadata": {
  "kernelspec": {
   "display_name": "SL_ASS1_kernel",
   "language": "python",
   "name": "sl_ass1"
  },
  "language_info": {
   "codemirror_mode": {
    "name": "ipython",
    "version": 3
   },
   "file_extension": ".py",
   "mimetype": "text/x-python",
   "name": "python",
   "nbconvert_exporter": "python",
   "pygments_lexer": "ipython3",
   "version": "3.12.0"
  }
 },
 "nbformat": 4,
 "nbformat_minor": 5
}
